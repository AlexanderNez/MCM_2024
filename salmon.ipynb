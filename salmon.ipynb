{
 "cells": [
  {
   "cell_type": "code",
   "execution_count": null,
   "metadata": {},
   "outputs": [],
   "source": [
    "import numpy as np \n",
    "import matplotlib.pyplot as plt \n",
    "from scipy.integrate import solve_ivp\n",
    "from mpl_toolkits.mplot3d import Axes3D\n",
    "\n",
    "\n",
    "def lamprey(t):\n",
    "    return 0.4\n",
    "\n",
    "\n",
    "par = {'hatchling_growth':0.1,'spawn_growth':0.05,'spawn_death':0.05,'adult_growth':0.01,'adult_death':0.01,'fishing_rate':0.05,\n",
    "    'lamprey':lamprey}\n",
    "\n",
    "y0 = [10,10,1,2]\n",
    "\n",
    "def Salmon(t,y,par):\n",
    "\n",
    "    S_h,S_s,S,L = y\n",
    "\n",
    "    dL = 0.1 * L*(1-L/5) * S - 0.05 * L\n",
    "    dS_h = par['hatchling_growth'] * S - par['spawn_growth'] * S_h\n",
    "    dS_s = par['spawn_growth'] * S_h  - par['spawn_death'] * S_s - par['adult_growth'] * S_s\n",
    "    dS = par['adult_growth'] * S_s * L- par['adult_death'] * S -par['fishing_rate'] * S\n",
    "\n",
    "    return np.array([dS_h,dS_s,dS,dL])\n",
    "\n",
    "t_span = [0,100]\n",
    "\n",
    "sol = solve_ivp(fun=lambda t,y: Salmon(t,y,par),t_span=t_span,y0=y0,method=\"LSODA\",t_eval=np.linspace(0,t_span[1],t_span[1]))\n",
    "\n",
    "labels = ['Salmon Hatchlings','Salmon Spawn','Adult Salmon','Lamprey']\n",
    "for i in range(0,4):\n",
    "    plt.plot(sol.y[i,:],label = labels[i])\n",
    "    plt.legend()\n",
    "    plt.show()"
   ]
  }
 ],
 "metadata": {
  "language_info": {
   "name": "python"
  }
 },
 "nbformat": 4,
 "nbformat_minor": 2
}
